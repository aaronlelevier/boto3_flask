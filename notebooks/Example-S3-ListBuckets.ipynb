{
 "cells": [
  {
   "cell_type": "markdown",
   "id": "9d7ec4ef",
   "metadata": {},
   "source": [
    "# Summary\n",
    "\n",
    "API example notebook for the following patterns:\n",
    "\n",
    "- python boto3.client - w/o reflection\n",
    "- python boto3.client - w/ reflection\n",
    "- http flask app - w/ reflection"
   ]
  },
  {
   "cell_type": "markdown",
   "id": "cb06ddaf",
   "metadata": {},
   "source": [
    "## Setup"
   ]
  },
  {
   "cell_type": "code",
   "execution_count": null,
   "id": "63be52f1",
   "metadata": {},
   "outputs": [],
   "source": [
    "## imports\n",
    "\n",
    "import boto3\n",
    "import requests"
   ]
  },
  {
   "cell_type": "code",
   "execution_count": null,
   "id": "28dd96fa",
   "metadata": {},
   "outputs": [],
   "source": [
    "## params\n",
    "\n",
    "service = 's3'\n",
    "method = 'list_buckets'"
   ]
  },
  {
   "cell_type": "markdown",
   "id": "bc454027",
   "metadata": {},
   "source": [
    "## Use cases"
   ]
  },
  {
   "cell_type": "code",
   "execution_count": null,
   "id": "ca358516",
   "metadata": {},
   "outputs": [],
   "source": [
    "## python boto3.client - w/o reflection"
   ]
  },
  {
   "cell_type": "code",
   "execution_count": null,
   "id": "b66e052d",
   "metadata": {},
   "outputs": [],
   "source": [
    "client = boto3.client(service)\n",
    "resp1 = client.list_buckets()\n",
    "resp1"
   ]
  },
  {
   "cell_type": "code",
   "execution_count": null,
   "id": "69d2d620",
   "metadata": {},
   "outputs": [],
   "source": [
    "## python boto3.client - w/ reflection"
   ]
  },
  {
   "cell_type": "code",
   "execution_count": null,
   "id": "ae78dbfa",
   "metadata": {},
   "outputs": [],
   "source": [
    "resp2 = getattr(boto3.client(service), method)()\n",
    "resp2"
   ]
  },
  {
   "cell_type": "code",
   "execution_count": null,
   "id": "c116f0bd",
   "metadata": {},
   "outputs": [],
   "source": [
    "# http flask app - w/ reflection"
   ]
  },
  {
   "cell_type": "code",
   "execution_count": null,
   "id": "933751fd",
   "metadata": {},
   "outputs": [],
   "source": [
    "resp3 = requests.get(f'http://localhost:5000/{service}/{method}/')\n",
    "resp3.json()"
   ]
  },
  {
   "cell_type": "code",
   "execution_count": null,
   "id": "6c1056ed",
   "metadata": {},
   "outputs": [],
   "source": []
  }
 ],
 "metadata": {
  "kernelspec": {
   "display_name": "Python 3 (ipykernel)",
   "language": "python",
   "name": "python3"
  },
  "language_info": {
   "codemirror_mode": {
    "name": "ipython",
    "version": 3
   },
   "file_extension": ".py",
   "mimetype": "text/x-python",
   "name": "python",
   "nbconvert_exporter": "python",
   "pygments_lexer": "ipython3",
   "version": "3.9.6"
  }
 },
 "nbformat": 4,
 "nbformat_minor": 5
}
