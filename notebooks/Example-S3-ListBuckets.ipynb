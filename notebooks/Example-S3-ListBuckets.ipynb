{
 "cells": [
  {
   "cell_type": "markdown",
   "id": "9d7ec4ef",
   "metadata": {},
   "source": [
    "# Summary\n",
    "\n",
    "API example notebook for the following patterns:\n",
    "\n",
    "- python boto3.client - w/o reflection\n",
    "- python boto3.client - w/ reflection\n",
    "- http flask app - w/ reflection"
   ]
  },
  {
   "cell_type": "markdown",
   "id": "cb06ddaf",
   "metadata": {},
   "source": [
    "## Setup"
   ]
  },
  {
   "cell_type": "code",
   "execution_count": 31,
   "id": "63be52f1",
   "metadata": {},
   "outputs": [],
   "source": [
    "## imports\n",
    "\n",
    "import boto3\n",
    "import requests"
   ]
  },
  {
   "cell_type": "code",
   "execution_count": 32,
   "id": "28dd96fa",
   "metadata": {},
   "outputs": [],
   "source": [
    "## params\n",
    "\n",
    "service = 's3'\n",
    "method = 'list_buckets'"
   ]
  },
  {
   "cell_type": "markdown",
   "id": "bc454027",
   "metadata": {},
   "source": [
    "## Use cases"
   ]
  },
  {
   "cell_type": "code",
   "execution_count": 33,
   "id": "ca358516",
   "metadata": {},
   "outputs": [],
   "source": [
    "## python boto3.client - w/o reflection"
   ]
  },
  {
   "cell_type": "code",
   "execution_count": 34,
   "id": "b66e052d",
   "metadata": {},
   "outputs": [
    {
     "data": {
      "text/plain": [
       "{'ResponseMetadata': {'RequestId': 'S0EVD1N35DTR07C0',\n",
       "  'HostId': 'GRa8IhZql/KaMAkdudpW3c//sQmgpFR5t+MguTJHps5BIAB4U+2FpzcMHWrqMb1MMaWye1959VY=',\n",
       "  'HTTPStatusCode': 200,\n",
       "  'HTTPHeaders': {'x-amz-id-2': 'GRa8IhZql/KaMAkdudpW3c//sQmgpFR5t+MguTJHps5BIAB4U+2FpzcMHWrqMb1MMaWye1959VY=',\n",
       "   'x-amz-request-id': 'S0EVD1N35DTR07C0',\n",
       "   'date': 'Sat, 04 Jun 2022 14:55:56 GMT',\n",
       "   'content-type': 'application/xml',\n",
       "   'transfer-encoding': 'chunked',\n",
       "   'server': 'AmazonS3'},\n",
       "  'RetryAttempts': 0},\n",
       " 'Buckets': [{'Name': 'config-bucket-799842967320',\n",
       "   'CreationDate': datetime.datetime(2022, 4, 11, 19, 51, 21, tzinfo=tzutc())},\n",
       "  {'Name': 'd2a-config',\n",
       "   'CreationDate': datetime.datetime(2021, 11, 23, 15, 16, 59, tzinfo=tzutc())}],\n",
       " 'Owner': {'DisplayName': 'datatoapi.v2',\n",
       "  'ID': 'd67aab1e00a03a50fd623e2f1b2e3961d5d28417a2df197f46e2637b3a9407f8'}}"
      ]
     },
     "execution_count": 34,
     "metadata": {},
     "output_type": "execute_result"
    }
   ],
   "source": [
    "client = boto3.client(service)\n",
    "resp1 = client.list_buckets()\n",
    "resp1"
   ]
  },
  {
   "cell_type": "code",
   "execution_count": 35,
   "id": "69d2d620",
   "metadata": {},
   "outputs": [],
   "source": [
    "## python boto3.client - w/ reflection"
   ]
  },
  {
   "cell_type": "code",
   "execution_count": 36,
   "id": "ae78dbfa",
   "metadata": {},
   "outputs": [
    {
     "data": {
      "text/plain": [
       "{'ResponseMetadata': {'RequestId': 'S0EM1YB62SNB6H90',\n",
       "  'HostId': 'uT9yOxjhpIRzkrpdAX8b/MKAc4DMgIzZ+dR3NtyQZFlaaLfS85cJQSI6hH6zRZyPzhjw8MV62So=',\n",
       "  'HTTPStatusCode': 200,\n",
       "  'HTTPHeaders': {'x-amz-id-2': 'uT9yOxjhpIRzkrpdAX8b/MKAc4DMgIzZ+dR3NtyQZFlaaLfS85cJQSI6hH6zRZyPzhjw8MV62So=',\n",
       "   'x-amz-request-id': 'S0EM1YB62SNB6H90',\n",
       "   'date': 'Sat, 04 Jun 2022 14:55:56 GMT',\n",
       "   'content-type': 'application/xml',\n",
       "   'transfer-encoding': 'chunked',\n",
       "   'server': 'AmazonS3'},\n",
       "  'RetryAttempts': 0},\n",
       " 'Buckets': [{'Name': 'config-bucket-799842967320',\n",
       "   'CreationDate': datetime.datetime(2022, 4, 11, 19, 51, 21, tzinfo=tzutc())},\n",
       "  {'Name': 'd2a-config',\n",
       "   'CreationDate': datetime.datetime(2021, 11, 23, 15, 16, 59, tzinfo=tzutc())}],\n",
       " 'Owner': {'DisplayName': 'datatoapi.v2',\n",
       "  'ID': 'd67aab1e00a03a50fd623e2f1b2e3961d5d28417a2df197f46e2637b3a9407f8'}}"
      ]
     },
     "execution_count": 36,
     "metadata": {},
     "output_type": "execute_result"
    }
   ],
   "source": [
    "resp2 = getattr(boto3.client(service), method)()\n",
    "resp2"
   ]
  },
  {
   "cell_type": "code",
   "execution_count": 37,
   "id": "c116f0bd",
   "metadata": {},
   "outputs": [],
   "source": [
    "# http flask app - w/ reflection"
   ]
  },
  {
   "cell_type": "code",
   "execution_count": 38,
   "id": "933751fd",
   "metadata": {},
   "outputs": [
    {
     "data": {
      "text/plain": [
       "{'Buckets': [{'CreationDate': 'Mon, 11 Apr 2022 19:51:21 GMT',\n",
       "   'Name': 'config-bucket-799842967320'},\n",
       "  {'CreationDate': 'Tue, 23 Nov 2021 15:16:59 GMT', 'Name': 'd2a-config'}],\n",
       " 'Owner': {'DisplayName': 'datatoapi.v2',\n",
       "  'ID': 'd67aab1e00a03a50fd623e2f1b2e3961d5d28417a2df197f46e2637b3a9407f8'},\n",
       " 'ResponseMetadata': {'HTTPHeaders': {'content-type': 'application/xml',\n",
       "   'date': 'Sat, 04 Jun 2022 14:55:56 GMT',\n",
       "   'server': 'AmazonS3',\n",
       "   'transfer-encoding': 'chunked',\n",
       "   'x-amz-id-2': 'QCuSl2QEeAaL4DfjHav4fHr4wIfFUNf30PG/JozclR8aYwkJ4uj001iyjiLSF9UUejYhqguzQws=',\n",
       "   'x-amz-request-id': 'S0EJDQZV660KNWKS'},\n",
       "  'HTTPStatusCode': 200,\n",
       "  'HostId': 'QCuSl2QEeAaL4DfjHav4fHr4wIfFUNf30PG/JozclR8aYwkJ4uj001iyjiLSF9UUejYhqguzQws=',\n",
       "  'RequestId': 'S0EJDQZV660KNWKS',\n",
       "  'RetryAttempts': 0}}"
      ]
     },
     "execution_count": 38,
     "metadata": {},
     "output_type": "execute_result"
    }
   ],
   "source": [
    "resp3 = requests.get(f'http://localhost:5000/{service}/{method}/')\n",
    "resp3.json()"
   ]
  },
  {
   "cell_type": "code",
   "execution_count": null,
   "id": "6c1056ed",
   "metadata": {},
   "outputs": [],
   "source": []
  }
 ],
 "metadata": {
  "kernelspec": {
   "display_name": "Python 3 (ipykernel)",
   "language": "python",
   "name": "python3"
  },
  "language_info": {
   "codemirror_mode": {
    "name": "ipython",
    "version": 3
   },
   "file_extension": ".py",
   "mimetype": "text/x-python",
   "name": "python",
   "nbconvert_exporter": "python",
   "pygments_lexer": "ipython3",
   "version": "3.9.6"
  }
 },
 "nbformat": 4,
 "nbformat_minor": 5
}
